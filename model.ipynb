{
 "cells": [
  {
   "cell_type": "markdown",
   "metadata": {},
   "source": [
    "## 1. Importing data and data preprocessing"
   ]
  },
  {
   "cell_type": "markdown",
   "metadata": {},
   "source": [
    "### 1.1 Import necesary libraries"
   ]
  },
  {
   "cell_type": "code",
   "execution_count": 1,
   "metadata": {},
   "outputs": [],
   "source": [
    "from __future__ import absolute_import, division, print_function, unicode_literals\n",
    "\n",
    "# TensorFlow and tf.keras\n",
    "import tensorflow as tf\n",
    "from tensorflow import keras\n",
    "\n",
    "# Helper libraries\n",
    "import numpy as np\n",
    "import json\n",
    "import random\n",
    "import tensorflowjs as tfjs"
   ]
  },
  {
   "cell_type": "markdown",
   "metadata": {},
   "source": [
    "### 1.2 Load and preprocess data"
   ]
  },
  {
   "cell_type": "code",
   "execution_count": 2,
   "metadata": {},
   "outputs": [
    {
     "name": "stdout",
     "output_type": "stream",
     "text": [
      "[[[0.35602094 0.34904014 0.34904014 ... 0.36736475 0.36736475 0.45287958]\n",
      "  [0.58213256 0.60518732 0.60518732 ... 0.59654179 0.59654179 0.45244957]]\n",
      "\n",
      " [[0.37958115 0.37958115 0.37870855 ... 0.45811518 0.504363   0.504363  ]\n",
      "  [0.42363112 0.42363112 0.42363112 ... 0.129683   0.22766571 0.22766571]]\n",
      "\n",
      " [[0.45375218 0.45375218 0.43368237 ... 0.57591623 0.57591623 0.57591623]\n",
      "  [0.96253602 0.96253602 0.9740634  ... 0.39193084 0.39193084 0.39193084]]\n",
      "\n",
      " ...\n",
      "\n",
      " [[0.44153578 0.44153578 0.41884817 ... 0.30017452 0.41884817 0.41884817]\n",
      "  [0.43804035 0.43804035 0.44956772 ... 0.10662824 0.27665706 0.27665706]]\n",
      "\n",
      " [[0.61082024 0.62739965 0.64485166 ... 0.59511344 0.58115183 0.58115183]\n",
      "  [0.55907781 0.57348703 0.5907781  ... 0.42939481 0.42651297 0.42651297]]\n",
      "\n",
      " [[0.40139616 0.40139616 0.37521815 ... 0.35340314 0.43106457 0.43106457]\n",
      "  [0.35158501 0.35158501 0.34005764 ... 0.24207493 0.30259366 0.30259366]]]\n",
      "[1 1 1 0 1 1 0 0 0 1 1 0 0 0 0 1 0 1 1 1 0 0 0 0 1 1 1 1 0 1 1 1 0 0 0 1 1\n",
      " 0 1 1 1 1 0 0 0 1 1 1 1 0 0 0 1 0 1 1 1 0 1 0 0 0 0 1 0 0 1 0 0 1 0 1 0 1\n",
      " 1 1 0 1 0 0 1 1 1 1 1 0 0 1 0 0 1 1 1 1 0 0 1 0 1 1 0 1 1 0 0 1 0 1 0 1 0\n",
      " 1 0 0 0 1 0 0 1 1 1 1 0 0 0 0 1 0 0 0 1 0 1 1 1 0 1 0 0 1 0 0 1 1 0 0 0 1\n",
      " 0 0 1 1 0 0 0 0 1 1 0 0 0 1 0 0 1 0 0 0 1 0 0 0 0 0 0 1 1 0 0 0 1 1 1 0 1\n",
      " 1 1 1 0 1 1 1 1 1 0 0 1 1 1 1]\n"
     ]
    }
   ],
   "source": [
    "# Prepare training data\n",
    "training_data = []\n",
    "\n",
    "# Hold training\n",
    "with open('hold_training.json') as json_file:  \n",
    "    data = json.load(json_file)\n",
    "    for coordSet in data['coords']:\n",
    "        # Separate x and y coords\n",
    "        training_data.append([[coordSet['mousePos'][0::2],coordSet['mousePos'][1::2]],0]) # 0 is hold\n",
    "        \n",
    "# Spill training\n",
    "with open('spill_training.json') as json_file:  \n",
    "    data = json.load(json_file)\n",
    "    for coordSet in data['coords']:\n",
    "        training_data.append([[coordSet['mousePos'][0::2],coordSet['mousePos'][1::2]],1]) # 1 is spill\n",
    "\n",
    "# Shuffling\n",
    "random.shuffle(training_data)\n",
    "\n",
    "# Extract\n",
    "train_coords = []\n",
    "train_labels = []\n",
    "minValX = float('inf')\n",
    "maxValX = 0\n",
    "minValY = float('inf')\n",
    "maxValY = 0\n",
    "for sample in training_data:\n",
    "    train_coords.append(sample[0])\n",
    "    train_labels.append(sample[1])\n",
    "    minValX = min(minValX, min(sample[0][0]))\n",
    "    maxValX = max(maxValX, max(sample[0][0]))\n",
    "    minValY = min(minValY, min(sample[0][1]))\n",
    "    maxValY = max(maxValY, max(sample[0][1]))\n",
    "# Normalize\n",
    "difValX = maxValX - minValX\n",
    "difValY = maxValY - minValY\n",
    "for i in range(len(train_coords)):\n",
    "    for j in range(len(train_coords[i][0])):\n",
    "        train_coords[i][0][j] = (train_coords[i][0][j] - minValX) / float(difValX)\n",
    "        train_coords[i][1][j] = (train_coords[i][1][j] - minValY) / float(difValY)\n",
    "        \n",
    "        train_coords[i][0] = np.asarray(train_coords[i][0])\n",
    "        train_coords[i][1] = np.asarray(train_coords[i][1])\n",
    "    # Convert to np array\n",
    "    train_coords[i] = np.asarray(train_coords[i])\n",
    "\n",
    "# Convert\n",
    "train_coords = np.asarray(train_coords)\n",
    "train_labels = np.asarray(train_labels)\n",
    "print(train_coords)\n",
    "print(train_labels)"
   ]
  },
  {
   "cell_type": "code",
   "execution_count": 3,
   "metadata": {},
   "outputs": [
    {
     "name": "stdout",
     "output_type": "stream",
     "text": [
      "(20, 2, 150)\n",
      "20\n"
     ]
    }
   ],
   "source": [
    "# Prepare testing data\n",
    "testing_data = []\n",
    "\n",
    "# Hold testing\n",
    "with open('hold_testing.json') as json_file:  \n",
    "    data = json.load(json_file)\n",
    "    for coordSet in data['coords']:\n",
    "        # Separate x and y coords\n",
    "        testing_data.append([[coordSet['mousePos'][0::2],coordSet['mousePos'][1::2]],0]) # 0 is hold\n",
    "        \n",
    "# Spill testing\n",
    "with open('spill_testing.json') as json_file:  \n",
    "    data = json.load(json_file)\n",
    "    for coordSet in data['coords']:\n",
    "        testing_data.append([[coordSet['mousePos'][0::2],coordSet['mousePos'][1::2]],1]) # 1 is spill\n",
    "\n",
    "# Shuffling\n",
    "random.shuffle(testing_data)\n",
    "\n",
    "# Extract\n",
    "test_coords = []\n",
    "test_labels = []\n",
    "minValX = float('inf')\n",
    "maxValX = 0\n",
    "minValY = float('inf')\n",
    "maxValY = 0\n",
    "for sample in testing_data:\n",
    "    test_coords.append(sample[0])\n",
    "    test_labels.append(sample[1])\n",
    "    minValX = min(minValX, min(sample[0][0]))\n",
    "    maxValX = max(maxValX, max(sample[0][0]))\n",
    "    minValY = min(minValY, min(sample[0][1]))\n",
    "    maxValY = max(maxValY, max(sample[0][1]))\n",
    "# Normalize\n",
    "difValX = maxValX - minValX\n",
    "difValY = maxValY - minValY\n",
    "for i in range(len(test_coords)):\n",
    "    for j in range(len(test_coords[i][0])):\n",
    "        test_coords[i][0][j] = (test_coords[i][0][j] - minValX) / float(difValX)\n",
    "        test_coords[i][1][j] = (test_coords[i][1][j] - minValY) / float(difValY)\n",
    "        \n",
    "        test_coords[i][0] = np.asarray(test_coords[i][0])\n",
    "        test_coords[i][1] = np.asarray(test_coords[i][1])\n",
    "    # Convert to np array\n",
    "    test_coords[i] = np.asarray(test_coords[i])\n",
    "\n",
    "# Convert\n",
    "test_coords = np.asarray(test_coords)\n",
    "test_labels = np.asarray(test_labels)\n",
    "print(test_coords.shape)\n",
    "print(len(test_labels))"
   ]
  },
  {
   "cell_type": "markdown",
   "metadata": {},
   "source": [
    "## 2. CNN"
   ]
  },
  {
   "cell_type": "markdown",
   "metadata": {},
   "source": [
    "### 2.1 Build model"
   ]
  },
  {
   "cell_type": "code",
   "execution_count": 4,
   "metadata": {},
   "outputs": [],
   "source": [
    "model = keras.Sequential([\n",
    "    keras.layers.Flatten(input_shape=(2,150)), # Adjust num tracked here\n",
    "    keras.layers.Dense(128, activation=tf.nn.relu),\n",
    "    keras.layers.Dense(1, activation=tf.nn.sigmoid)\n",
    "])"
   ]
  },
  {
   "cell_type": "markdown",
   "metadata": {},
   "source": [
    "### 2.2 Compile "
   ]
  },
  {
   "cell_type": "code",
   "execution_count": 5,
   "metadata": {},
   "outputs": [],
   "source": [
    "model.compile(optimizer='adam',\n",
    "              loss='binary_crossentropy',\n",
    "              metrics=['accuracy'])"
   ]
  },
  {
   "cell_type": "markdown",
   "metadata": {},
   "source": [
    "### 2.3 Train"
   ]
  },
  {
   "cell_type": "code",
   "execution_count": 6,
   "metadata": {},
   "outputs": [
    {
     "name": "stderr",
     "output_type": "stream",
     "text": [
      "WARNING: Logging before flag parsing goes to stderr.\n",
      "W0723 10:38:58.521854 4591044032 deprecation.py:323] From /anaconda3/lib/python3.7/site-packages/tensorflow/python/ops/math_grad.py:1250: add_dispatch_support.<locals>.wrapper (from tensorflow.python.ops.array_ops) is deprecated and will be removed in a future version.\n",
      "Instructions for updating:\n",
      "Use tf.where in 2.0, which has the same broadcast rule as np.where\n"
     ]
    },
    {
     "name": "stdout",
     "output_type": "stream",
     "text": [
      "Epoch 1/40\n",
      "200/200 [==============================] - 0s 716us/sample - loss: 0.8008 - acc: 0.5550\n",
      "Epoch 2/40\n",
      "200/200 [==============================] - 0s 45us/sample - loss: 0.6822 - acc: 0.6100\n",
      "Epoch 3/40\n",
      "200/200 [==============================] - 0s 45us/sample - loss: 0.6568 - acc: 0.5950\n",
      "Epoch 4/40\n",
      "200/200 [==============================] - 0s 45us/sample - loss: 0.6306 - acc: 0.6250\n",
      "Epoch 5/40\n",
      "200/200 [==============================] - 0s 38us/sample - loss: 0.6179 - acc: 0.7200\n",
      "Epoch 6/40\n",
      "200/200 [==============================] - 0s 35us/sample - loss: 0.6007 - acc: 0.6650\n",
      "Epoch 7/40\n",
      "200/200 [==============================] - 0s 39us/sample - loss: 0.5729 - acc: 0.7500\n",
      "Epoch 8/40\n",
      "200/200 [==============================] - 0s 40us/sample - loss: 0.5549 - acc: 0.7600\n",
      "Epoch 9/40\n",
      "200/200 [==============================] - 0s 41us/sample - loss: 0.5484 - acc: 0.7750\n",
      "Epoch 10/40\n",
      "200/200 [==============================] - 0s 39us/sample - loss: 0.5244 - acc: 0.8400\n",
      "Epoch 11/40\n",
      "200/200 [==============================] - 0s 38us/sample - loss: 0.5079 - acc: 0.8300\n",
      "Epoch 12/40\n",
      "200/200 [==============================] - 0s 38us/sample - loss: 0.4949 - acc: 0.8600\n",
      "Epoch 13/40\n",
      "200/200 [==============================] - 0s 38us/sample - loss: 0.4794 - acc: 0.7900\n",
      "Epoch 14/40\n",
      "200/200 [==============================] - 0s 38us/sample - loss: 0.4700 - acc: 0.8200\n",
      "Epoch 15/40\n",
      "200/200 [==============================] - 0s 41us/sample - loss: 0.4567 - acc: 0.8500\n",
      "Epoch 16/40\n",
      "200/200 [==============================] - 0s 38us/sample - loss: 0.4464 - acc: 0.8150\n",
      "Epoch 17/40\n",
      "200/200 [==============================] - 0s 37us/sample - loss: 0.4308 - acc: 0.8600\n",
      "Epoch 18/40\n",
      "200/200 [==============================] - 0s 38us/sample - loss: 0.4152 - acc: 0.8500\n",
      "Epoch 19/40\n",
      "200/200 [==============================] - 0s 37us/sample - loss: 0.4136 - acc: 0.8550\n",
      "Epoch 20/40\n",
      "200/200 [==============================] - 0s 38us/sample - loss: 0.4025 - acc: 0.8550\n",
      "Epoch 21/40\n",
      "200/200 [==============================] - 0s 36us/sample - loss: 0.3980 - acc: 0.8600\n",
      "Epoch 22/40\n",
      "200/200 [==============================] - 0s 39us/sample - loss: 0.3834 - acc: 0.8600\n",
      "Epoch 23/40\n",
      "200/200 [==============================] - 0s 39us/sample - loss: 0.3730 - acc: 0.8550\n",
      "Epoch 24/40\n",
      "200/200 [==============================] - 0s 39us/sample - loss: 0.3594 - acc: 0.8950\n",
      "Epoch 25/40\n",
      "200/200 [==============================] - 0s 39us/sample - loss: 0.3611 - acc: 0.8750\n",
      "Epoch 26/40\n",
      "200/200 [==============================] - 0s 40us/sample - loss: 0.3636 - acc: 0.8400\n",
      "Epoch 27/40\n",
      "200/200 [==============================] - 0s 35us/sample - loss: 0.3492 - acc: 0.8850\n",
      "Epoch 28/40\n",
      "200/200 [==============================] - 0s 36us/sample - loss: 0.3469 - acc: 0.8550\n",
      "Epoch 29/40\n",
      "200/200 [==============================] - 0s 35us/sample - loss: 0.3714 - acc: 0.8100\n",
      "Epoch 30/40\n",
      "200/200 [==============================] - 0s 34us/sample - loss: 0.3506 - acc: 0.8650\n",
      "Epoch 31/40\n",
      "200/200 [==============================] - 0s 35us/sample - loss: 0.3185 - acc: 0.8950\n",
      "Epoch 32/40\n",
      "200/200 [==============================] - 0s 36us/sample - loss: 0.3178 - acc: 0.8850\n",
      "Epoch 33/40\n",
      "200/200 [==============================] - 0s 36us/sample - loss: 0.3179 - acc: 0.8800\n",
      "Epoch 34/40\n",
      "200/200 [==============================] - 0s 35us/sample - loss: 0.3038 - acc: 0.8900\n",
      "Epoch 35/40\n",
      "200/200 [==============================] - 0s 37us/sample - loss: 0.3028 - acc: 0.9100\n",
      "Epoch 36/40\n",
      "200/200 [==============================] - 0s 39us/sample - loss: 0.2943 - acc: 0.9100\n",
      "Epoch 37/40\n",
      "200/200 [==============================] - 0s 34us/sample - loss: 0.2937 - acc: 0.8900\n",
      "Epoch 38/40\n",
      "200/200 [==============================] - 0s 33us/sample - loss: 0.2851 - acc: 0.9100\n",
      "Epoch 39/40\n",
      "200/200 [==============================] - 0s 32us/sample - loss: 0.2773 - acc: 0.9050\n",
      "Epoch 40/40\n",
      "200/200 [==============================] - 0s 33us/sample - loss: 0.2786 - acc: 0.9000\n"
     ]
    },
    {
     "data": {
      "text/plain": [
       "<tensorflow.python.keras.callbacks.History at 0x7ff4b15b3c88>"
      ]
     },
     "execution_count": 6,
     "metadata": {},
     "output_type": "execute_result"
    }
   ],
   "source": [
    "model.fit(train_coords, train_labels, epochs=40)"
   ]
  },
  {
   "cell_type": "markdown",
   "metadata": {},
   "source": [
    "### 2.4 Results"
   ]
  },
  {
   "cell_type": "code",
   "execution_count": 7,
   "metadata": {},
   "outputs": [
    {
     "name": "stdout",
     "output_type": "stream",
     "text": [
      "\r",
      "20/20 [==============================] - 0s 868us/sample - loss: 0.2068 - acc: 1.0000\n"
     ]
    }
   ],
   "source": [
    "test_loss, test_acc = model.evaluate(test_coords, test_labels)"
   ]
  },
  {
   "cell_type": "code",
   "execution_count": 8,
   "metadata": {},
   "outputs": [
    {
     "name": "stdout",
     "output_type": "stream",
     "text": [
      "[[0.8055397 ]\n",
      " [0.99980265]\n",
      " [0.7796998 ]\n",
      " [0.33366197]\n",
      " [0.34389684]\n",
      " [0.8518066 ]\n",
      " [0.25477642]\n",
      " [0.9936719 ]\n",
      " [0.30859542]\n",
      " [0.2347152 ]\n",
      " [0.39567965]\n",
      " [0.12274435]\n",
      " [0.99572223]\n",
      " [0.9989158 ]\n",
      " [0.8741718 ]\n",
      " [0.9181582 ]\n",
      " [0.14112766]\n",
      " [0.99880207]\n",
      " [0.2445157 ]\n",
      " [0.3635958 ]]\n"
     ]
    }
   ],
   "source": [
    "predictions = model.predict(test_coords)\n",
    "print(predictions)"
   ]
  },
  {
   "cell_type": "markdown",
   "metadata": {},
   "source": [
    "### 2.5 Save model"
   ]
  },
  {
   "cell_type": "code",
   "execution_count": 9,
   "metadata": {},
   "outputs": [],
   "source": [
    "# Python model\n",
    "model.save('Model/model.h5')\n",
    "# JS model\n",
    "tfjs.converters.save_keras_model(model, './ModelJS')"
   ]
  },
  {
   "cell_type": "code",
   "execution_count": null,
   "metadata": {},
   "outputs": [],
   "source": []
  }
 ],
 "metadata": {
  "kernelspec": {
   "display_name": "Python 3",
   "language": "python",
   "name": "python3"
  },
  "language_info": {
   "codemirror_mode": {
    "name": "ipython",
    "version": 3
   },
   "file_extension": ".py",
   "mimetype": "text/x-python",
   "name": "python",
   "nbconvert_exporter": "python",
   "pygments_lexer": "ipython3",
   "version": "3.7.3"
  }
 },
 "nbformat": 4,
 "nbformat_minor": 2
}
