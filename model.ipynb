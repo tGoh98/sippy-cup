{
 "cells": [
  {
   "cell_type": "code",
   "execution_count": 2,
   "metadata": {},
   "outputs": [],
   "source": [
    "from __future__ import absolute_import, division, print_function, unicode_literals\n",
    "\n",
    "# TensorFlow and tf.keras\n",
    "import tensorflow as tf\n",
    "from tensorflow import keras\n",
    "\n",
    "# Helper libraries\n",
    "import numpy as np\n",
    "import matplotlib.pyplot as plt\n",
    "import json"
   ]
  },
  {
   "cell_type": "code",
   "execution_count": 33,
   "metadata": {},
   "outputs": [],
   "source": [
    "# Training data\n",
    "\n",
    "train_data = []\n",
    "train_labels = []\n",
    "\n",
    "# Hold training\n",
    "with open('hold_training.json') as json_file:  \n",
    "    data = json.load(json_file)\n",
    "    for coordSet in data['coords']:\n",
    "        # Convert and add each mousePosArr\n",
    "        coordSet['mousePos'] = np.asarray(coordSet['mousePos'])\n",
    "        train_data.append(coordSet['mousePos'])\n",
    "        train_labels.append(0) # 0 is hold\n",
    "        \n",
    "# Spill training\n",
    "with open('spill_training.json') as json_file:  \n",
    "    data = json.load(json_file)\n",
    "    for coordSet in data['coords']:\n",
    "        # Convert and add mousePosArr\n",
    "        coordSet['mousePos'] = np.asarray(coordSet['mousePos'])\n",
    "        train_data.append(coordSet['mousePos'])\n",
    "        train_labels.append(1) # 1 is spill\n",
    "        \n",
    "# Convert to numpy arrays\n",
    "train_data = np.asarray(train_data)\n",
    "train_labels = np.asarray(train_labels)"
   ]
  },
  {
   "cell_type": "code",
   "execution_count": 35,
   "metadata": {},
   "outputs": [
    {
     "name": "stdout",
     "output_type": "stream",
     "text": [
      "(20, 300)\n",
      "20\n"
     ]
    }
   ],
   "source": [
    "# Test data\n",
    "\n",
    "test_data = []\n",
    "test_labels = []\n",
    "\n",
    "# Hold training\n",
    "with open('hold_testing.json') as json_file:  \n",
    "    data = json.load(json_file)\n",
    "    for coordSet in data['coords']:\n",
    "        # Convert and add each mousePosArr\n",
    "        coordSet['mousePos'] = np.asarray(coordSet['mousePos'])\n",
    "        test_data.append(coordSet['mousePos'])\n",
    "        test_labels.append(0) # 0 is hold\n",
    "        \n",
    "# Spill training\n",
    "with open('spill_testing.json') as json_file:  \n",
    "    data = json.load(json_file)\n",
    "    for coordSet in data['coords']:\n",
    "        # Convert and add mousePosArr\n",
    "        coordSet['mousePos'] = np.asarray(coordSet['mousePos'])\n",
    "        test_data.append(coordSet['mousePos'])\n",
    "        test_labels.append(1) # 1 is spill\n",
    "        \n",
    "# Convert to numpy arrays\n",
    "test_data = np.asarray(test_data)\n",
    "test_labels = np.asarray(test_labels)\n",
    "# print(test_data.shape)\n",
    "# print(len(test_labels))"
   ]
  },
  {
   "cell_type": "code",
   "execution_count": null,
   "metadata": {},
   "outputs": [],
   "source": []
  }
 ],
 "metadata": {
  "kernelspec": {
   "display_name": "myenv",
   "language": "python",
   "name": "myenv"
  },
  "language_info": {
   "codemirror_mode": {
    "name": "ipython",
    "version": 3
   },
   "file_extension": ".py",
   "mimetype": "text/x-python",
   "name": "python",
   "nbconvert_exporter": "python",
   "pygments_lexer": "ipython3",
   "version": "3.7.3"
  }
 },
 "nbformat": 4,
 "nbformat_minor": 2
}
